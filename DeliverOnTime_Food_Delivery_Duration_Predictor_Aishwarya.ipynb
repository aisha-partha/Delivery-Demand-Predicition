{
  "metadata": {
    "kernelspec": {
      "language": "python",
      "display_name": "Python 3",
      "name": "python3"
    },
    "language_info": {
      "pygments_lexer": "ipython3",
      "nbconvert_exporter": "python",
      "version": "3.6.4",
      "file_extension": ".py",
      "codemirror_mode": {
        "name": "ipython",
        "version": 3
      },
      "name": "python",
      "mimetype": "text/x-python"
    },
    "colab": {
      "provenance": [],
      "include_colab_link": true
    }
  },
  "nbformat_minor": 0,
  "nbformat": 4,
  "cells": [
    {
      "cell_type": "markdown",
      "metadata": {
        "id": "view-in-github",
        "colab_type": "text"
      },
      "source": [
        "<a href=\"https://colab.research.google.com/github/aisha-partha/Delivery-Demand-Prediction/blob/main/DeliverOnTime_Food_Delivery_Duration_Predictor_Aishwarya.ipynb\" target=\"_parent\"><img src=\"https://colab.research.google.com/assets/colab-badge.svg\" alt=\"Open In Colab\"/></a>"
      ]
    },
    {
      "cell_type": "markdown",
      "source": [
        "# Summary\n",
        "\n",
        "![Screenshot 2023-05-29 at 10.24.05 PM.png](attachment:908cb898-7e3f-4204-a544-0eaebcb73d4f.png)\n",
        "\n",
        "**The food delivery time prediction model plays a crucial role in the food delivery industry, where prompt and accurate delivery is of utmost importance. Delivery time directly impacts customer satisfaction and influences their overall experience.**\n",
        "\n",
        "**To develop an effective prediction model, we began by thoroughly cleaning the dataset, ensuring it was free from errors and inconsistencies. This step was vital in ensuring the reliability and accuracy of the model's predictions.**\n",
        "\n",
        "**Feature engineering was then employed to extract valuable insights from the dataset. By considering factors such as delivery person age, ratings, location coordinates, and time-related variables, we aimed to capture key variables that influence delivery time. These engineered features contributed to the model's predictive capabilities.**\n",
        "\n",
        "**Using regression algorithms like linear regression, decision tree, random forest,XGBoost we built the predictive model. It was trained on a subset of the dataset using techniques like cross-validation to ensure robustness. Evaluation metrics such as mean squared error (MSE) and R-squared (R2) score were used to assess the model's accuracy. The food delivery time prediction model empowers businesses to optimize their operations and improve the overall delivery experience for their customers.**"
      ],
      "metadata": {
        "id": "zGVzYf1QJFXg"
      }
    },
    {
      "cell_type": "markdown",
      "source": [
        "# Import Libraries"
      ],
      "metadata": {
        "id": "kzPAdI3qJFXh"
      }
    },
    {
      "cell_type": "code",
      "source": [
        "import numpy as np\n",
        "import pandas as pd\n",
        "import matplotlib.pyplot as plt\n",
        "import seaborn as sns\n",
        "import scipy.stats as stats\n",
        "import statistics\n",
        "from geopy.distance import geodesic\n",
        "\n",
        "from sklearn.model_selection import train_test_split,cross_val_score, GridSearchCV\n",
        "from sklearn.preprocessing import LabelEncoder,StandardScaler\n",
        "from sklearn.linear_model import LinearRegression\n",
        "from sklearn.tree import DecisionTreeRegressor\n",
        "from sklearn.ensemble import RandomForestRegressor\n",
        "import xgboost as xgb\n",
        "from sklearn.metrics import mean_squared_error, r2_score,mean_absolute_error\n",
        "import warnings\n",
        "warnings.filterwarnings('ignore')"
      ],
      "metadata": {
        "execution": {
          "iopub.status.busy": "2023-06-23T09:57:19.898949Z",
          "iopub.execute_input": "2023-06-23T09:57:19.899532Z",
          "iopub.status.idle": "2023-06-23T09:57:19.908624Z",
          "shell.execute_reply.started": "2023-06-23T09:57:19.89949Z",
          "shell.execute_reply": "2023-06-23T09:57:19.90752Z"
        },
        "trusted": true,
        "id": "E-dzrUj2JFXh"
      },
      "execution_count": null,
      "outputs": []
    },
    {
      "cell_type": "markdown",
      "source": [
        "# Load & Understand Data"
      ],
      "metadata": {
        "id": "vYvVklhpJFXh"
      }
    },
    {
      "cell_type": "code",
      "source": [
        "df_train = pd.read_csv('train.csv')\n",
        "df_train.head()"
      ],
      "metadata": {
        "execution": {
          "iopub.status.busy": "2023-06-23T09:57:20.043801Z",
          "iopub.execute_input": "2023-06-23T09:57:20.0442Z",
          "iopub.status.idle": "2023-06-23T09:57:20.29872Z",
          "shell.execute_reply.started": "2023-06-23T09:57:20.044168Z",
          "shell.execute_reply": "2023-06-23T09:57:20.297574Z"
        },
        "trusted": true,
        "id": "LQ9sKdJtJFXi"
      },
      "execution_count": null,
      "outputs": []
    },
    {
      "cell_type": "code",
      "source": [
        "df_train.columns"
      ],
      "metadata": {
        "execution": {
          "iopub.status.busy": "2023-06-23T09:57:20.300374Z",
          "iopub.execute_input": "2023-06-23T09:57:20.301126Z",
          "iopub.status.idle": "2023-06-23T09:57:20.308974Z",
          "shell.execute_reply.started": "2023-06-23T09:57:20.301093Z",
          "shell.execute_reply": "2023-06-23T09:57:20.307679Z"
        },
        "trusted": true,
        "id": "f239KWtcJFXi"
      },
      "execution_count": null,
      "outputs": []
    },
    {
      "cell_type": "code",
      "source": [
        "print(\"Train Dataset :\", df_train.shape)"
      ],
      "metadata": {
        "execution": {
          "iopub.status.busy": "2023-06-23T09:57:20.310536Z",
          "iopub.execute_input": "2023-06-23T09:57:20.310864Z",
          "iopub.status.idle": "2023-06-23T09:57:20.321051Z",
          "shell.execute_reply.started": "2023-06-23T09:57:20.310838Z",
          "shell.execute_reply": "2023-06-23T09:57:20.319579Z"
        },
        "trusted": true,
        "id": "G23zDOChJFXi"
      },
      "execution_count": null,
      "outputs": []
    },
    {
      "cell_type": "code",
      "source": [
        "df_train.info()"
      ],
      "metadata": {
        "execution": {
          "iopub.status.busy": "2023-06-23T09:57:20.32342Z",
          "iopub.execute_input": "2023-06-23T09:57:20.323832Z",
          "iopub.status.idle": "2023-06-23T09:57:20.445262Z",
          "shell.execute_reply.started": "2023-06-23T09:57:20.323802Z",
          "shell.execute_reply": "2023-06-23T09:57:20.44395Z"
        },
        "trusted": true,
        "id": "ObtSmaIdJFXi"
      },
      "execution_count": null,
      "outputs": []
    },
    {
      "cell_type": "code",
      "source": [
        "#Check statistical values for fields with numerical datatype\n",
        "df_train.describe().T"
      ],
      "metadata": {
        "execution": {
          "iopub.status.busy": "2023-06-23T09:57:20.446762Z",
          "iopub.execute_input": "2023-06-23T09:57:20.447127Z",
          "iopub.status.idle": "2023-06-23T09:57:20.495373Z",
          "shell.execute_reply.started": "2023-06-23T09:57:20.4471Z",
          "shell.execute_reply": "2023-06-23T09:57:20.494002Z"
        },
        "trusted": true,
        "id": "ZywvlR9-JFXi"
      },
      "execution_count": null,
      "outputs": []
    },
    {
      "cell_type": "code",
      "source": [
        "#Check statistical values for fields with other than numerical datatype\n",
        "df_train.describe(exclude=np.number).T"
      ],
      "metadata": {
        "execution": {
          "iopub.status.busy": "2023-06-23T09:57:20.497455Z",
          "iopub.execute_input": "2023-06-23T09:57:20.49808Z",
          "iopub.status.idle": "2023-06-23T09:57:20.651516Z",
          "shell.execute_reply.started": "2023-06-23T09:57:20.498044Z",
          "shell.execute_reply": "2023-06-23T09:57:20.649897Z"
        },
        "trusted": true,
        "id": "mYmaU-eFJFXj"
      },
      "execution_count": null,
      "outputs": []
    },
    {
      "cell_type": "code",
      "source": [
        "#checking for null values\n",
        "\n",
        "df_train.columns[df_train.isnull().any()].tolist()"
      ],
      "metadata": {
        "id": "N7uajaN0bZnI"
      },
      "execution_count": null,
      "outputs": []
    },
    {
      "cell_type": "markdown",
      "source": [
        "**Observations:**\n",
        "\n",
        "1. Data Formatting will be required for Weatherconditions & Time_taken(min) column.\n",
        "2. Both numerical & categorical features are present.\n",
        "3. ID & Delivery_person_ID will not be used to build the model."
      ],
      "metadata": {
        "id": "A5kGpBGqJFXj"
      }
    },
    {
      "cell_type": "code",
      "source": [
        "#Explore each column\n",
        "for column in df_train.columns:\n",
        "    print(column)\n",
        "    print(df_train[column].value_counts())\n",
        "    print(\"------------------------------------\")"
      ],
      "metadata": {
        "execution": {
          "iopub.status.busy": "2023-06-23T09:57:20.654619Z",
          "iopub.execute_input": "2023-06-23T09:57:20.655818Z",
          "iopub.status.idle": "2023-06-23T09:57:20.767841Z",
          "shell.execute_reply.started": "2023-06-23T09:57:20.655775Z",
          "shell.execute_reply": "2023-06-23T09:57:20.766552Z"
        },
        "trusted": true,
        "id": "w4F6XPDeJFXj"
      },
      "execution_count": null,
      "outputs": []
    },
    {
      "cell_type": "markdown",
      "source": [
        "# Data Cleaning"
      ],
      "metadata": {
        "id": "pRYJm_ebJFXj"
      }
    },
    {
      "cell_type": "code",
      "source": [
        "#Update Column Names\n",
        "def update_column_name(df):\n",
        "    #Renaming Weatherconditions column\n",
        "    df.rename(columns={'Weatherconditions': 'Weather_conditions'},inplace=True)\n",
        "    df.rename(columns={'Time_taken(min)': 'Time_taken_in_min'},inplace=True)\n",
        "    df.columns = [x.lower() for x in df.columns]\n",
        "\n",
        "\n",
        "update_column_name(df_train)\n",
        "print(df_train.columns)"
      ],
      "metadata": {
        "execution": {
          "iopub.status.busy": "2023-06-23T09:57:20.769503Z",
          "iopub.execute_input": "2023-06-23T09:57:20.770367Z",
          "iopub.status.idle": "2023-06-23T09:57:20.778961Z",
          "shell.execute_reply.started": "2023-06-23T09:57:20.770324Z",
          "shell.execute_reply": "2023-06-23T09:57:20.777708Z"
        },
        "trusted": true,
        "id": "Cb4IoTwMJFXj"
      },
      "execution_count": null,
      "outputs": []
    },
    {
      "cell_type": "code",
      "source": [
        "df_train['delivery_person_id'].value_counts()"
      ],
      "metadata": {
        "id": "CaCRO31Sev6w"
      },
      "execution_count": null,
      "outputs": []
    },
    {
      "cell_type": "code",
      "source": [
        "#Extract relevant values from column\n",
        "def extract_column_value(df):\n",
        "    #Extract time and convert to int\n",
        "    df['time_taken_in_min'] = df['time_taken_in_min'].apply(lambda x: int(x.split(' ')[1].strip()))\n",
        "    #Extract Weather conditions\n",
        "    df['weather_conditions'] = df['weather_conditions'].apply(lambda x: x.split(' ')[1].strip())\n",
        "    #Extract city code from Delivery person ID\n",
        "    df['city_code']=df['delivery_person_id'].str.split(\"RES\", expand=True)[0]\n",
        "\n",
        "extract_column_value(df_train)\n",
        "df_train[['time_taken_in_min','weather_conditions','city_code']].head()"
      ],
      "metadata": {
        "execution": {
          "iopub.status.busy": "2023-06-23T09:57:20.782715Z",
          "iopub.execute_input": "2023-06-23T09:57:20.783161Z",
          "iopub.status.idle": "2023-06-23T09:57:20.959466Z",
          "shell.execute_reply.started": "2023-06-23T09:57:20.783121Z",
          "shell.execute_reply": "2023-06-23T09:57:20.958307Z"
        },
        "trusted": true,
        "id": "oaYEzJFJJFXj"
      },
      "execution_count": null,
      "outputs": []
    },
    {
      "cell_type": "code",
      "source": [
        "#Check for Duplicate Values\n",
        "if (len(df_train[df_train.duplicated()])>0):\n",
        "    print(\"There are Duplicate values present\")\n",
        "else:\n",
        "    print(\"There is no duplicate value present\")"
      ],
      "metadata": {
        "execution": {
          "iopub.status.busy": "2023-06-23T09:57:20.983401Z",
          "iopub.execute_input": "2023-06-23T09:57:20.984072Z",
          "iopub.status.idle": "2023-06-23T09:57:21.057892Z",
          "shell.execute_reply.started": "2023-06-23T09:57:20.984031Z",
          "shell.execute_reply": "2023-06-23T09:57:21.056017Z"
        },
        "trusted": true,
        "id": "tzdGF5OjJFXj"
      },
      "execution_count": null,
      "outputs": []
    },
    {
      "cell_type": "code",
      "source": [
        "#Update datatypes\n",
        "def update_datatype(df):\n",
        "    df['delivery_person_age'] = df['delivery_person_age'].astype('float64')\n",
        "    df['delivery_person_ratings'] = df['delivery_person_ratings'].astype('float64')\n",
        "    df['multiple_deliveries'] = df['multiple_deliveries'].astype('float64')\n",
        "    df['order_date']=pd.to_datetime(df['order_date'],format=\"%d-%m-%Y\")\n",
        "\n",
        "update_datatype(df_train)"
      ],
      "metadata": {
        "execution": {
          "iopub.status.busy": "2023-06-23T09:57:21.059786Z",
          "iopub.execute_input": "2023-06-23T09:57:21.060461Z",
          "iopub.status.idle": "2023-06-23T09:57:21.118734Z",
          "shell.execute_reply.started": "2023-06-23T09:57:21.06042Z",
          "shell.execute_reply": "2023-06-23T09:57:21.117658Z"
        },
        "trusted": true,
        "id": "cgLCmgWTJFXj"
      },
      "execution_count": null,
      "outputs": []
    },
    {
      "cell_type": "code",
      "source": [
        "#Convert String 'NaN' to np.nan\n",
        "def convert_nan(df):\n",
        "    df.replace('NaN', float(np.nan), regex=True,inplace=True)\n",
        "    df.replace('nan', float(np.nan), regex=True,inplace=True)\n",
        "convert_nan(df_train)"
      ],
      "metadata": {
        "execution": {
          "iopub.status.busy": "2023-06-23T09:57:21.120134Z",
          "iopub.execute_input": "2023-06-23T09:57:21.12046Z",
          "iopub.status.idle": "2023-06-23T09:57:21.802239Z",
          "shell.execute_reply.started": "2023-06-23T09:57:21.120432Z",
          "shell.execute_reply": "2023-06-23T09:57:21.801029Z"
        },
        "trusted": true,
        "id": "U_GJ5P8QJFXj"
      },
      "execution_count": null,
      "outputs": []
    },
    {
      "cell_type": "code",
      "source": [
        "#Check null values\n",
        "df_train.isnull().sum().sort_values(ascending=False)"
      ],
      "metadata": {
        "execution": {
          "iopub.status.busy": "2023-06-23T09:57:21.803834Z",
          "iopub.execute_input": "2023-06-23T09:57:21.804192Z",
          "iopub.status.idle": "2023-06-23T09:57:21.875539Z",
          "shell.execute_reply.started": "2023-06-23T09:57:21.804154Z",
          "shell.execute_reply": "2023-06-23T09:57:21.874338Z"
        },
        "trusted": true,
        "id": "EeggSqdrJFXj"
      },
      "execution_count": null,
      "outputs": []
    },
    {
      "cell_type": "code",
      "source": [
        "#Let's explore columns that have null values\n",
        "cols = ['delivery_person_age','delivery_person_ratings','weather_conditions','road_traffic_density','multiple_deliveries','festival','city']\n",
        "num_plots = len(cols)\n",
        "num_rows = (num_plots // 2) + (num_plots % 2)\n",
        "\n",
        "fig, axes = plt.subplots(num_rows, 2, figsize=(60,25))\n",
        "\n",
        "for i, column_name in enumerate(cols):\n",
        "    row = i // 2\n",
        "    col = i % 2\n",
        "\n",
        "    ax = axes[row, col]\n",
        "    sns.countplot(data=df_train, x=column_name, order=df_train[column_name].value_counts().sort_index().index, ax=ax)\n",
        "\n",
        "    ax.set_xlabel(column_name)\n",
        "    ax.set_ylabel('No. of Orders')\n",
        "    ax.set_title(column_name)\n",
        "    ax.tick_params(axis='x', rotation=45)\n",
        "\n",
        "if num_plots % 2 != 0:\n",
        "    fig.delaxes(axes[-1, -1])\n",
        "\n",
        "plt.tight_layout()\n",
        "plt.show()"
      ],
      "metadata": {
        "execution": {
          "iopub.status.busy": "2023-06-23T09:57:21.877229Z",
          "iopub.execute_input": "2023-06-23T09:57:21.87809Z",
          "iopub.status.idle": "2023-06-23T09:57:23.885826Z",
          "shell.execute_reply.started": "2023-06-23T09:57:21.878058Z",
          "shell.execute_reply": "2023-06-23T09:57:23.88456Z"
        },
        "trusted": true,
        "id": "cH94CyHyJFXk"
      },
      "execution_count": null,
      "outputs": []
    },
    {
      "cell_type": "code",
      "source": [
        "#Handle null values\n",
        "def handle_null_values(df):\n",
        "    df['delivery_person_age'].fillna(np.random.choice(df['delivery_person_age']), inplace=True)\n",
        "    df['weather_conditions'].fillna(np.random.choice(df['weather_conditions']), inplace=True)\n",
        "    df['city'].fillna(df['city'].mode()[0], inplace=True)\n",
        "    df['festival'].fillna(df['festival'].mode()[0], inplace=True)\n",
        "    df['multiple_deliveries'].fillna(df['multiple_deliveries'].mode()[0], inplace=True)\n",
        "    df['road_traffic_density'].fillna(df['road_traffic_density'].mode()[0], inplace=True)\n",
        "    df['delivery_person_ratings'].fillna(df['delivery_person_ratings'].median(), inplace=True)\n",
        "    df.replace(np.nan,np.random.choice(df['delivery_person_age']) , regex=True,inplace=True)\n",
        "\n",
        "handle_null_values(df_train)\n",
        "df_train.isnull().sum()"
      ],
      "metadata": {
        "execution": {
          "iopub.status.busy": "2023-06-23T09:57:23.8871Z",
          "iopub.execute_input": "2023-06-23T09:57:23.888255Z",
          "iopub.status.idle": "2023-06-23T09:57:23.999062Z",
          "shell.execute_reply.started": "2023-06-23T09:57:23.888209Z",
          "shell.execute_reply": "2023-06-23T09:57:23.997904Z"
        },
        "trusted": true,
        "id": "ha6rd-LTJFXk"
      },
      "execution_count": null,
      "outputs": []
    },
    {
      "cell_type": "code",
      "source": [
        "df_train.isnull().sum()"
      ],
      "metadata": {
        "id": "381ggXRKpFgL"
      },
      "execution_count": null,
      "outputs": []
    },
    {
      "cell_type": "code",
      "source": [
        "#Drop Columns which won't be use for building model\n",
        "def drop_columns(df):\n",
        "    df.drop(['ID','Delivery_person_ID'],axis=1,inplace=True)\n",
        "\n",
        "print(\"Before No. of columns: \",df_train.shape[1])\n",
        "drop_columns(df_train)\n",
        "print(\"After No. of columns: \",df_train.shape[1])"
      ],
      "metadata": {
        "execution": {
          "iopub.status.busy": "2023-06-23T09:57:20.960817Z",
          "iopub.execute_input": "2023-06-23T09:57:20.96118Z",
          "iopub.status.idle": "2023-06-23T09:57:20.981559Z",
          "shell.execute_reply.started": "2023-06-23T09:57:20.96115Z",
          "shell.execute_reply": "2023-06-23T09:57:20.980322Z"
        },
        "trusted": true,
        "id": "9jQGQ_xYJFXj"
      },
      "execution_count": null,
      "outputs": []
    },
    {
      "cell_type": "code",
      "source": [
        "#Vizualizations"
      ],
      "metadata": {
        "id": "HGCjChC6uNzh"
      },
      "execution_count": null,
      "outputs": []
    },
    {
      "cell_type": "code",
      "source": [
        "!pip install folium"
      ],
      "metadata": {
        "id": "x4zjWV6AuQNl"
      },
      "execution_count": null,
      "outputs": []
    },
    {
      "cell_type": "code",
      "source": [
        "import numpy as np\n",
        "import pandas as pd\n",
        "\n",
        "# For plotting maps\n",
        "import folium\n",
        "\n",
        "# For Regular Expressions\n",
        "import re\n",
        "\n",
        "# For working with geographical data\n",
        "import geopandas\n",
        "\n",
        "# For plotting in python\n",
        "import matplotlib\n",
        "import matplotlib.pyplot as plt"
      ],
      "metadata": {
        "id": "esdxjOcvuzK4"
      },
      "execution_count": null,
      "outputs": []
    },
    {
      "cell_type": "code",
      "source": [
        "# https://github.com/covid19india/covid19india-react/blob/master/public/maps/india.json"
      ],
      "metadata": {
        "id": "9jauKKJFvJGA"
      },
      "execution_count": null,
      "outputs": []
    },
    {
      "cell_type": "code",
      "source": [
        "india_geojson=geopandas.read_file('india.json')\n",
        "india_geojson.head()"
      ],
      "metadata": {
        "id": "YVanW2Qzu35O"
      },
      "execution_count": null,
      "outputs": []
    },
    {
      "cell_type": "code",
      "source": [
        "india_geojson.plot()"
      ],
      "metadata": {
        "id": "FIuFVouXvUkH"
      },
      "execution_count": null,
      "outputs": []
    },
    {
      "cell_type": "code",
      "source": [
        "df_train['city'].value_counts()"
      ],
      "metadata": {
        "id": "zWfybWjDxB1A"
      },
      "execution_count": null,
      "outputs": []
    },
    {
      "cell_type": "code",
      "source": [
        "from branca.element import Figure\n",
        "fig=Figure(width=550,height=350)"
      ],
      "metadata": {
        "id": "jSyPjO7RxgY7"
      },
      "execution_count": null,
      "outputs": []
    },
    {
      "cell_type": "code",
      "source": [
        "# Creating Basemap\n",
        "fig3=Figure(width=550,height=350)\n",
        "m3=folium.Map(location=[22.7196, 75.8577],tiles='cartodbpositron',zoom_start=11)\n",
        "fig3.add_child(m3)"
      ],
      "metadata": {
        "id": "yqlEdPocw-6F"
      },
      "execution_count": null,
      "outputs": []
    },
    {
      "cell_type": "code",
      "source": [
        "f1=folium.FeatureGroup(\"Delivery 1\")"
      ],
      "metadata": {
        "id": "HMsgmlo_xvXx"
      },
      "execution_count": null,
      "outputs": []
    },
    {
      "cell_type": "code",
      "source": [
        "df_train.head()"
      ],
      "metadata": {
        "id": "bXySQs-a0Qts"
      },
      "execution_count": null,
      "outputs": []
    },
    {
      "cell_type": "code",
      "source": [
        "coords_1=[[ df_train['delivery_location_latitude'][0], df_train['delivery_location_longitude'][0]],[df_train['restaurant_latitude'][0], df_train['restaurant_longitude'][0]]]"
      ],
      "metadata": {
        "id": "JP2CvsSpynQa"
      },
      "execution_count": null,
      "outputs": []
    },
    {
      "cell_type": "code",
      "source": [],
      "metadata": {
        "id": "hFb4mbZNzKLO"
      },
      "execution_count": null,
      "outputs": []
    },
    {
      "cell_type": "code",
      "source": [
        "line_1=folium.vector_layers.PolyLine(coords_1,popup='<b>Delivery_1</b>',tooltip='D_1',color='blue',weight=10).add_to(f1)"
      ],
      "metadata": {
        "id": "b28_65jUyZC9"
      },
      "execution_count": null,
      "outputs": []
    },
    {
      "cell_type": "code",
      "source": [
        "f1.add_to(m3)\n",
        "folium.LayerControl().add_to(m3)\n",
        "m3"
      ],
      "metadata": {
        "id": "85pC_jqDzqhw"
      },
      "execution_count": null,
      "outputs": []
    },
    {
      "cell_type": "code",
      "source": [
        "df_train['city_code']"
      ],
      "metadata": {
        "id": "3_HblNWK1_Hw"
      },
      "execution_count": null,
      "outputs": []
    },
    {
      "cell_type": "code",
      "source": [
        "df_indore_data = df_train[df_train['city_code']=='INDO']"
      ],
      "metadata": {
        "id": "G5p-1kiR2SIk"
      },
      "execution_count": null,
      "outputs": []
    },
    {
      "cell_type": "code",
      "source": [
        "df_indore_data.info()"
      ],
      "metadata": {
        "id": "RBGwpmjz30gt"
      },
      "execution_count": null,
      "outputs": []
    },
    {
      "cell_type": "code",
      "source": [
        "m = folium.Map([22.7196, 75.8577], zoom_start=11)\n",
        "\n",
        "for _, row in df_indore_data.head(50).iterrows():\n",
        "    folium.CircleMarker([row['restaurant_latitude'], row['restaurant_longitude']],\n",
        "                        radius=15,\n",
        "                        fill_color=\"#3db7e4\", # divvy color\n",
        "                       ).add_to(m)\n",
        "\n",
        "    folium.CircleMarker([row['delivery_location_latitude'], row['delivery_location_longitude']],\n",
        "                        radius=15,\n",
        "                        fill_color=\"red\", # divvy color\n",
        "                       ).add_to(m)\n",
        "\n",
        "    folium.PolyLine([[row['restaurant_latitude'], row['restaurant_longitude']],\n",
        "                     [row['delivery_location_latitude'], row['delivery_location_longitude']]]).add_to(m)\n",
        "m"
      ],
      "metadata": {
        "id": "uTjy8_ue2ewW"
      },
      "execution_count": null,
      "outputs": []
    },
    {
      "cell_type": "markdown",
      "source": [
        "# Feature Engineering"
      ],
      "metadata": {
        "id": "ztGtkhBaJFXk"
      }
    },
    {
      "cell_type": "code",
      "source": [
        "def extract_date_features(data):\n",
        "    data[\"day\"] = data.order_date.dt.day\n",
        "    data[\"month\"] = data.order_date.dt.month\n",
        "    data[\"quarter\"] = data.order_date.dt.quarter\n",
        "    data[\"year\"] = data.order_date.dt.year\n",
        "    data['day_of_week'] = data.order_date.dt.day_of_week.astype(int)\n",
        "    data[\"is_month_start\"] = data.order_date.dt.is_month_start.astype(int)\n",
        "    data[\"is_month_end\"] = data.order_date.dt.is_month_end.astype(int)\n",
        "    data[\"is_quarter_start\"] = data.order_date.dt.is_quarter_start.astype(int)\n",
        "    data[\"is_quarter_end\"] = data.order_date.dt.is_quarter_end.astype(int)\n",
        "    data[\"is_year_start\"] = data.order_date.dt.is_year_start.astype(int)\n",
        "    data[\"is_year_end\"] = data.order_date.dt.is_year_end.astype(int)\n",
        "    data['is_weekend'] = np.where(data['day_of_week'].isin([5,6]),1,0)\n",
        "\n",
        "extract_date_features(df_train)\n",
        "df_train.head()"
      ],
      "metadata": {
        "execution": {
          "iopub.status.busy": "2023-06-23T09:57:24.006498Z",
          "iopub.execute_input": "2023-06-23T09:57:24.007009Z",
          "iopub.status.idle": "2023-06-23T09:57:24.100324Z",
          "shell.execute_reply.started": "2023-06-23T09:57:24.00697Z",
          "shell.execute_reply": "2023-06-23T09:57:24.099059Z"
        },
        "trusted": true,
        "id": "dlrgWkoeJFXk"
      },
      "execution_count": null,
      "outputs": []
    },
    {
      "cell_type": "code",
      "source": [
        "#Calculate Time Differnce\n",
        "'''\n",
        "def calculate_time_diff(df):\n",
        "    # Find the difference between ordered time & picked time\n",
        "    df['time_orderd'] = pd.to_timedelta(df['time_orderd'])\n",
        "    df['time_order_picked'] = pd.to_timedelta(df['time_order_picked'])\n",
        "\n",
        "    df['time_order_picked_formatted'] = df['order_date'] + np.where(df['time_order_picked'] < df['time_orderd'], pd.DateOffset(days=1), pd.DateOffset(days=0)) + df['time_order_picked']\n",
        "    df['time_ordered_formatted'] = df['order_date'] + df['time_orderd']\n",
        "\n",
        "    df['order_prepare_time'] = (df['time_order_picked_formatted'] - df['time_ordered_formatted']).dt.total_seconds() / 60\n",
        "\n",
        "    # Handle null values by filling with the median\n",
        "    df['order_prepare_time'].fillna(df['order_prepare_time'].median(), inplace=True)\n",
        "\n",
        "    # Drop all the time & date related columns\n",
        "    df.drop(['time_orderd', 'time_order_picked', 'time_ordered_formatted', 'time_order_picked_formatted', 'order_date'], axis=1, inplace=True)\n",
        "\n",
        "\n",
        "calculate_time_diff(df_train)\n",
        "df_train.head()\n",
        "'''"
      ],
      "metadata": {
        "execution": {
          "iopub.status.busy": "2023-06-23T09:57:24.101376Z",
          "iopub.execute_input": "2023-06-23T09:57:24.101712Z",
          "iopub.status.idle": "2023-06-23T09:57:26.061862Z",
          "shell.execute_reply.started": "2023-06-23T09:57:24.101685Z",
          "shell.execute_reply": "2023-06-23T09:57:26.060132Z"
        },
        "trusted": true,
        "id": "BiEpl3PXJFXk"
      },
      "execution_count": null,
      "outputs": []
    },
    {
      "cell_type": "code",
      "source": [
        "#Calculate distance between restaurant location & delivery location\n",
        "def calculate_distance(df):\n",
        "    df['distance']=np.zeros(len(df))\n",
        "    restaurant_coordinates=df[['restaurant_latitude','restaurant_longitude']].to_numpy()\n",
        "    delivery_location_coordinates=df[['delivery_location_latitude','delivery_location_longitude']].to_numpy()\n",
        "    df['distance'] = np.array([geodesic(restaurant, delivery) for restaurant, delivery in zip(restaurant_coordinates, delivery_location_coordinates)])\n",
        "    df['distance']= df['distance'].astype(\"str\").str.extract('(\\d+)').astype(\"int64\")\n",
        "\n",
        "calculate_distance(df_train)\n",
        "df_train.head()"
      ],
      "metadata": {
        "execution": {
          "iopub.status.busy": "2023-06-23T09:57:26.06369Z",
          "iopub.execute_input": "2023-06-23T09:57:26.064303Z",
          "iopub.status.idle": "2023-06-23T09:57:37.797789Z",
          "shell.execute_reply.started": "2023-06-23T09:57:26.064251Z",
          "shell.execute_reply": "2023-06-23T09:57:37.796654Z"
        },
        "trusted": true,
        "id": "kMWWXdf6JFXk"
      },
      "execution_count": null,
      "outputs": []
    },
    {
      "cell_type": "code",
      "source": [],
      "metadata": {
        "id": "4vx9f9HOgVv9"
      },
      "execution_count": null,
      "outputs": []
    }
  ]
}